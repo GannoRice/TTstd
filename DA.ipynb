{
 "cells": [
  {
   "cell_type": "markdown",
   "metadata": {},
   "source": [
    "# Vehicles data analysis\n",
    "\n",
    "data visulaisation and analysis project on large vehicle data set\n",
    "the purpose of this project is to show the relationship various variables and how they interact with eachother and show that in a visual and an interactive way that is hoted on a public server"
   ]
  },
  {
   "cell_type": "code",
   "execution_count": 1,
   "metadata": {},
   "outputs": [],
   "source": [
    "import pandas as pd\n",
    "import numpy as np\n",
    "\n",
    "from scipy import stats as st \n",
    "from scipy.stats import pearsonr\n",
    "\n",
    "from matplotlib import pyplot as plt\n"
   ]
  },
  {
   "cell_type": "code",
   "execution_count": 2,
   "metadata": {},
   "outputs": [],
   "source": [
    "vehicles = pd.read_csv('vehicles_us.csv')\n"
   ]
  },
  {
   "cell_type": "markdown",
   "metadata": {},
   "source": [
    "Data is a comma seperated value document > no arguments were passed in order for pandas to read data into the dataframe"
   ]
  },
  {
   "cell_type": "markdown",
   "metadata": {},
   "source": [
    "# Cleaning data "
   ]
  },
  {
   "cell_type": "code",
   "execution_count": 3,
   "metadata": {},
   "outputs": [],
   "source": [
    "# create new column based on model code to pull info about the manufacturer\n",
    "vehicles['manufacturer'] = vehicles['model'].apply(lambda x: x.split()[0])"
   ]
  },
  {
   "cell_type": "code",
   "execution_count": 5,
   "metadata": {},
   "outputs": [],
   "source": [
    "# check for any missing values \n",
    "cols = vehicles.columns\n",
    "\n",
    "null_values = []\n",
    "\n",
    "for col in cols:\n",
    "    null_values.append(vehicles[vehicles[col].isna()].shape[0])\n",
    "    \n",
    "\n",
    "null_count = dict(zip(cols, null_values))\n",
    "\n"
   ]
  },
  {
   "cell_type": "markdown",
   "metadata": {},
   "source": [
    "\n",
    "model_year and cylinders can be replaced with big numbers so its clear when trying to do data analysis these numbers arent revelant, \n",
    "\n",
    "is_4wd can be set to 0 > meaning not 4wd \n",
    "\n",
    "paint_color > unknown \n"
   ]
  },
  {
   "cell_type": "code",
   "execution_count": 6,
   "metadata": {},
   "outputs": [],
   "source": [
    "# replacing missing values \n",
    "# replace with large number to highlight unimportance and to have it easily be cut as an outlier\n",
    "vehicles['model_year'].fillna(9999, inplace = True)\n",
    "\n",
    "# turns column into binary answers which are easy to read \n",
    "vehicles['is_4wd'].fillna(0, inplace = True)\n",
    "\n",
    "# paint colour is qualitative so cant be derived from an average meaningfully\n",
    "vehicles['paint_color'].fillna('Unknown', inplace = True)\n",
    "\n",
    "\n",
    "\n",
    "# Fill nan cylinders with the mean of their corosponding mean depentant on the model of the vehicle \n",
    "# get a list of all the vehicles that have missing cylinder values associated \n",
    "nanc_models: list = vehicles[vehicles['cylinders'].isna()]['model'].unique()\n",
    "#get a dictionary of each model and thier average number of cylinders (rounded as an int)     \n",
    "nanc_cyldinders: dict = dict(vehicles[vehicles['model'].isin(nanc_models)].groupby('model')['cylinders'].mean().__round__())  #get a dictionary of each model and thier average number of cylinders (rounded as an int)\n",
    "# map the corisponding values onto the nan values\n",
    "vehicles['cylinders'] = vehicles['cylinders'].fillna(vehicles['model'].map(nanc_cyldinders))\n",
    "\n",
    "\n",
    "\n",
    "# Fill nan odometer with the mean of their models \n",
    "nano_models: list = vehicles[vehicles['odometer'].isna()]['model'].unique()\n",
    "nano_odometer: dict = dict(vehicles[vehicles['model'].isin(nano_models)].groupby('model')['odometer'].mean())\n",
    "vehicles['odometer'] = vehicles['odometer'].fillna(vehicles['model'].map(nano_odometer))\n",
    "vehicles['odometer'] = vehicles['odometer'].fillna(vehicles['odometer'].mean()) #mercedes-benz benze sprinter 2500 has no infomation on mileage so wasnt mapped\n",
    "\n",
    "\n"
   ]
  },
  {
   "cell_type": "code",
   "execution_count": 7,
   "metadata": {},
   "outputs": [],
   "source": [
    "# fix data types\n",
    "# to_datetime values, floating point to int in order to save memory, bool values for clarity \n",
    "\n",
    "vehicles['model_year'] = vehicles['model_year'].astype(int)\n",
    "vehicles['cylinders'] = vehicles['cylinders'].astype(int)\n",
    "vehicles['date_posted'] = pd.to_datetime(vehicles['date_posted'])\n",
    "vehicles['is_4wd'].replace({1.0: True, 0.0: False}, inplace= True)"
   ]
  },
  {
   "cell_type": "code",
   "execution_count": 8,
   "metadata": {},
   "outputs": [
    {
     "data": {
      "text/html": [
       "<div>\n",
       "<style scoped>\n",
       "    .dataframe tbody tr th:only-of-type {\n",
       "        vertical-align: middle;\n",
       "    }\n",
       "\n",
       "    .dataframe tbody tr th {\n",
       "        vertical-align: top;\n",
       "    }\n",
       "\n",
       "    .dataframe thead th {\n",
       "        text-align: right;\n",
       "    }\n",
       "</style>\n",
       "<table border=\"1\" class=\"dataframe\">\n",
       "  <thead>\n",
       "    <tr style=\"text-align: right;\">\n",
       "      <th></th>\n",
       "      <th>price</th>\n",
       "      <th>model_year</th>\n",
       "      <th>model</th>\n",
       "      <th>condition</th>\n",
       "      <th>cylinders</th>\n",
       "      <th>fuel</th>\n",
       "      <th>odometer</th>\n",
       "      <th>transmission</th>\n",
       "      <th>type</th>\n",
       "      <th>paint_color</th>\n",
       "      <th>is_4wd</th>\n",
       "      <th>date_posted</th>\n",
       "      <th>days_listed</th>\n",
       "      <th>manufacturer</th>\n",
       "    </tr>\n",
       "  </thead>\n",
       "  <tbody>\n",
       "  </tbody>\n",
       "</table>\n",
       "</div>"
      ],
      "text/plain": [
       "Empty DataFrame\n",
       "Columns: [price, model_year, model, condition, cylinders, fuel, odometer, transmission, type, paint_color, is_4wd, date_posted, days_listed, manufacturer]\n",
       "Index: []"
      ]
     },
     "execution_count": 8,
     "metadata": {},
     "output_type": "execute_result"
    }
   ],
   "source": [
    "#check duplicates \n",
    "\n",
    "vehicles[vehicles.duplicated()]    # returns empty df > no duplicates "
   ]
  },
  {
   "cell_type": "code",
   "execution_count": 9,
   "metadata": {},
   "outputs": [],
   "source": [
    "# exporting the now cleaned dataframe into the respository to be used with the main.py file \n",
    "vehicles.to_csv('vehicles_clean.csv', index = False, encoding = 'utf-8')"
   ]
  },
  {
   "cell_type": "markdown",
   "metadata": {},
   "source": [
    "data has been cleaned and exported into the enviroment for use in the main python document,\n",
    "\n",
    "overall concluions show a relatively clean data set, minor wuality of life changes had to be made so some data types in order to improve usability. similarly, NaN values had to be filled, NaN values weren't hugely common and were replaced by their relative means where possible so should effect the outcome of further analysis and visulaisation too greatly "
   ]
  },
  {
   "cell_type": "markdown",
   "metadata": {},
   "source": [
    "# Data Analysis"
   ]
  },
  {
   "cell_type": "markdown",
   "metadata": {},
   "source": [
    "average price for car,\n",
    "car price for each manufacturer \n",
    "\n",
    "is there a statistical corrolation between the miles of the car and its price? "
   ]
  },
  {
   "cell_type": "code",
   "execution_count": 10,
   "metadata": {},
   "outputs": [
    {
     "data": {
      "image/png": "[encoded data removed]",
      "text/plain": [
       "<Figure size 640x480 with 1 Axes>"
      ]
     },
     "metadata": {},
     "output_type": "display_data"
    }
   ],
   "source": [
    "# create new df object that contains the manufacturer and the price of the car, group by manufacturer\n",
    "average_df = vehicles[['manufacturer', 'price']].groupby('manufacturer').mean().reset_index()\n",
    "#static graph to interpret data from \n",
    "\n",
    "fig, ax = plt.subplots()\n",
    "\n",
    "ax.bar(average_df['manufacturer'], average_df['price'],\n",
    "        width=1, linewidth=0.7,\n",
    "        edgecolor=\"black\",\n",
    "        )\n",
    "ax.tick_params(axis='x', labelrotation=90)\n",
    "\n",
    "plt.show()"
   ]
  },
  {
   "cell_type": "markdown",
   "metadata": {},
   "source": [
    "From this graph we can see that on average mercedes-benz have the most valueble cars on average by a significant amount, more analysis would need to be conducted to draw out reasons to why this is the case. analysis such as whether it produces more of a certain type of car than other brands or if theres a statitically higher amount of cars in good condition with low miles within the sample set. "
   ]
  },
  {
   "cell_type": "code",
   "execution_count": 11,
   "metadata": {},
   "outputs": [
    {
     "data": {
      "text/plain": [
       "PearsonRResult(statistic=-0.38408676469270364, pvalue=0.0)"
      ]
     },
     "execution_count": 11,
     "metadata": {},
     "output_type": "execute_result"
    }
   ],
   "source": [
    "odo: list = vehicles['odometer'].to_numpy()\n",
    "price: list = vehicles['price'].to_numpy()\n",
    "\n",
    "pearsonr(price, odo)\n"
   ]
  },
  {
   "cell_type": "markdown",
   "metadata": {},
   "source": [
    "correlation is equal to -0.4 which suggests a relatively weak negative correlation between price and the number of miles a car has done, this is to be expected as the older and more used a car is the less valueable the car would be. similarly the reason why this is only a weak correlation would be to suggesst that different vehicles retain their value differently; some may be able to withstand higher mileage and not decrease their price as much.\n",
    "\n",
    "the p-value of this test came out to 0, this still suggests statistical significance as it is less than 0.5, p-values in scipy are calculated analytically meaning an exact value cannot be found if it is lower than a certain very small number which highlights this tests significance.\n",
    "(it is also important to note that the magnitude of samples helped to reduce this p-value)"
   ]
  },
  {
   "cell_type": "markdown",
   "metadata": {},
   "source": [
    "# EDA Conclusion \n",
    "\n",
    "This project has highlighted some intresting things through the data such as the stark difference in prices between different types and different companies/ brands as well as the corrolation between the mileage of the car and its price. this corrolation came out relatively weak but general consecious would lead you to believe that the corrolation between the 2 variables to be a stronger negative. The visulaisation in the main.py file shows the weakness better. "
   ]
  },
  {
   "cell_type": "markdown",
   "metadata": {},
   "source": []
  }
 ],
 "metadata": {
  "kernelspec": {
   "display_name": "Python 3",
   "language": "python",
   "name": "python3"
  },
  "language_info": {
   "codemirror_mode": {
    "name": "ipython",
    "version": 3
   },
   "file_extension": ".py",
   "mimetype": "text/x-python",
   "name": "python",
   "nbconvert_exporter": "python",
   "pygments_lexer": "ipython3",
   "version": "3.9.2"
  }
 },
 "nbformat": 4,
 "nbformat_minor": 2
}
